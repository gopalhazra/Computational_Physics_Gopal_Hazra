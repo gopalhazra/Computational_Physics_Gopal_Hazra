{
 "cells": [
  {
   "cell_type": "code",
   "execution_count": 1,
   "id": "9af570bc",
   "metadata": {},
   "outputs": [
    {
     "name": "stdout",
     "output_type": "stream",
     "text": [
      "Enter the amount of Energy (eV unit) =10\n",
      "Enter the hight of the Potential Barier (eV unit) = 9\n",
      "Transmission Probability= 0.7301261363877616\n",
      "Reflection Probability= 0.2698738636122384\n"
     ]
    }
   ],
   "source": [
    "#Solution of Assignment_1\n",
    "#Instructor: Gopal Hazra\n",
    "#Computational Physics-PHY617, Dept of Physics, IIT Kanpur\n",
    "\n",
    "\n",
    "#QUESTION_1\n",
    "\n",
    "import numpy as np\n",
    "import matplotlib.pyplot as plt\n",
    "\n",
    "E = float(input('Enter the amount of Energy (eV unit) =')) # Energy of the particle.\n",
    "V = float(input('Enter the hight of the Potential Barier (eV unit) = ',))  #hight of the potential barrier.\n",
    "m = 9.11*10**(-31) # mass of the particle.\n",
    "h_bar = 6.626*10**(-34)/(2*np.pi)\n",
    "k_1 = np.sqrt(2*m*E/(h_bar)**2)\n",
    "k_2 = np.sqrt(2*m*(E-V)/(h_bar)**2)\n",
    "\n",
    "T = (4*k_1*k_2)/((k_1+k_2)**2) # Transmission Probability.\n",
    "R = (k_1-k_2)**2/(k_1+k_2)**2 #  Reflection Probability.\n",
    "\n",
    "print('Transmission Probability=',T)\n",
    "print('Reflection Probability=', R)"
   ]
  },
  {
   "cell_type": "code",
   "execution_count": 6,
   "id": "6381b7d3",
   "metadata": {},
   "outputs": [
    {
     "name": "stdin",
     "output_type": "stream",
     "text": [
      "X Coordinate =  3\n",
      "Y Coordinate =  4\n"
     ]
    },
    {
     "name": "stdout",
     "output_type": "stream",
     "text": [
      "Radial distance = 5.0\n",
      " Angle(degree) =  53.13010235415598\n"
     ]
    }
   ],
   "source": [
    "# QUESTION_2\n",
    "import numpy as np\n",
    "import matplotlib.pyplot as plt\n",
    "\n",
    "x = float(input('X Coordinate = ')) # This is my X coordinate.\n",
    "y = float(input('Y Coordinate = ')) # This is my Y coordinate.\n",
    "\n",
    "r = np.sqrt((x**2)  + (y**2)) # This is my radial distance.\n",
    "Theta = np.arctan(y/x) # This is in radian.\n",
    "Theta_D = Theta*(180/(np.pi)) # This is in degree.\n",
    "\n",
    "\n",
    "print ('Radial distance =',r)\n",
    "print(' Angle(degree) = ',Theta_D)"
   ]
  },
  {
   "cell_type": "code",
   "execution_count": 14,
   "id": "15359645",
   "metadata": {},
   "outputs": [
    {
     "name": "stdin",
     "output_type": "stream",
     "text": [
      "Enter the perihelion distance =  1.4710e11\n",
      "Enter the perihelion velocity =  3.0287e4\n"
     ]
    },
    {
     "name": "stdout",
     "output_type": "stream",
     "text": [
      "Velocity as Aphelion point(m/s) = 29305.399177261148\n",
      "Aphelion Distance(meter) =  152027197208.66058\n",
      "Time period of the object(Year) = 1.0002238777234609\n",
      " Eccentricity =  0.016471913134744297\n"
     ]
    }
   ],
   "source": [
    "#### QUESTION_3 (For the case of Earth)\n",
    "import numpy as np\n",
    "import matplotlib.pyplot as plt\n",
    "\n",
    "l_1 =float(input('Enter the perihelion distance = ')) # Perihelion Distance (meter unit) .\n",
    "v_1 =float(input('Enter the perihelion velocity = ')) # Velocity at the perihelion Point(m/s unit).\n",
    "\n",
    "G = 6.6738*10**(-11) # Gravitational Constant.\n",
    "M = 1.9891*10**(30) # Mass of the Sun ( kg unit).\n",
    "\n",
    "A = (2*G*M/(v_1*l_1)) # I define a new variable.\n",
    "B = ((v_1)**2 - (2*G*M/(l_1))) # I define a another new variable.\n",
    "\n",
    "v_2 = (A - np.sqrt(A**2 + 4*B))/2 # Velocity as Aphelion point.\n",
    "l_2 = (l_1*v_1)/(v_2) # Aphelion Distance.\n",
    "\n",
    "a = (l_1+l_2)/2 # This is my semi_mejor axis.\n",
    "b = np.sqrt(l_1*l_2) # This is my semi_minor axis.\n",
    "\n",
    "T = (2*np.pi*a*b)/(l_1*v_1) # Time period of the object )(sec_unit).\n",
    "T_Y = T/(365*24*3600) # Time period in Year\n",
    "e = (l_2 - l_1)/( l_2 + l_1) # This is my Eccentricity.\n",
    "\n",
    "print('Velocity as Aphelion point(m/s) =',v_2)\n",
    "print('Aphelion Distance(meter) = ', l_2)\n",
    "print('Time period of the object(Year) =',T_Y)\n",
    "print(' Eccentricity = ',e)"
   ]
  },
  {
   "cell_type": "code",
   "execution_count": 12,
   "id": "2e9ef766",
   "metadata": {},
   "outputs": [
    {
     "name": "stdin",
     "output_type": "stream",
     "text": [
      "Enter the perihelion distance =  8.7830e10\n",
      "Enter the perihelion velocity =  5.4529e4\n"
     ]
    },
    {
     "name": "stdout",
     "output_type": "stream",
     "text": [
      "Velocity as Aphelion point(m/s) = 906.6806969191493\n",
      "Aphelion Distance(in meter) =  5282214660876.441\n",
      "Time period of the object(Year) = 76.08170065465461\n",
      " Eccentricity =  0.9672889126454061\n"
     ]
    }
   ],
   "source": [
    "# QUESTION_3 (For Halley's Comet)\n",
    "import numpy as np\n",
    "import matplotlib.pyplot as plt\n",
    "\n",
    "l_1 =float(input('Enter the perihelion distance = ')) # Perihelion Distance (meter unit) .\n",
    "v_1 =float(input('Enter the perihelion velocity = ')) # Velocity at the perihelion Point(m/s unit).\n",
    "\n",
    "G = 6.6738*10**(-11) # Gravitational Constant.\n",
    "M = 1.9891*10**(30) # Mass of the Sun ( kg unit).\n",
    "\n",
    "A = (2*G*M/(v_1*l_1)) # I define a new variable.\n",
    "B = ((v_1)**2 - (2*G*M/(l_1))) # I define a another new variable.\n",
    "\n",
    "v_2 = (A - np.sqrt(A**2 + 4*B))/2 # Velocity as Aphelion point.\n",
    "l_2 = (l_1*v_1)/(v_2) # Aphelion Distance.\n",
    "\n",
    "a = (l_1+l_2)/2 # This is my semi_mejor axis.\n",
    "b = np.sqrt(l_1*l_2) # This is my semi_minor axis.\n",
    "\n",
    "T = (2*np.pi*a*b)/(l_1*v_1) # Time period of the object )(sec_unit).\n",
    "T_Y = T/(365*24*3600) # Time period in Year\n",
    "e = (l_2 - l_1)/( l_2 + l_1) # This is my Eccentricity.\n",
    "\n",
    "\n",
    "\n",
    "\n",
    "print('Velocity as Aphelion point(m/s) =',v_2)\n",
    "print('Aphelion Distance( meter) = ', l_2)\n",
    "print('Time period of the object(Year) =',T_Y)\n",
    "print(' Eccentricity = ',e)"
   ]
  },
  {
   "cell_type": "code",
   "execution_count": null,
   "id": "220caa09",
   "metadata": {},
   "outputs": [],
   "source": []
  }
 ],
 "metadata": {
  "kernelspec": {
   "display_name": "Python 3",
   "language": "python",
   "name": "python3"
  },
  "language_info": {
   "codemirror_mode": {
    "name": "ipython",
    "version": 3
   },
   "file_extension": ".py",
   "mimetype": "text/x-python",
   "name": "python",
   "nbconvert_exporter": "python",
   "pygments_lexer": "ipython3",
   "version": "3.7.3"
  }
 },
 "nbformat": 4,
 "nbformat_minor": 5
}
