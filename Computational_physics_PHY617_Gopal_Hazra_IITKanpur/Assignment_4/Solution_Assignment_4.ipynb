{
 "cells": [
  {
   "cell_type": "code",
   "execution_count": 1,
   "id": "3635cec1",
   "metadata": {},
   "outputs": [],
   "source": [
    "#Solution of Assignment_4\n",
    "#Instructor: Gopal Hazra\n",
    "#Computational Physics-PHY617, Dept of Physics, IIT Kanpur\n",
    "\n",
    "import numpy as np\n",
    "import matplotlib.pyplot as plt"
   ]
  },
  {
   "cell_type": "markdown",
   "id": "acf0fed1",
   "metadata": {},
   "source": [
    "<font size=\"5\">Question_1: Binary search method</font>"
   ]
  },
  {
   "cell_type": "code",
   "execution_count": 2,
   "id": "747a6126",
   "metadata": {},
   "outputs": [],
   "source": [
    "#### Calculating roots using binary search with stopping condition as tolerance\n",
    "def bisect_method(g, x_start, x_end, tol):\n",
    "    n_iter = 0\n",
    "    g1 = g(x_start)\n",
    "    if g1 == 0.0:\n",
    "        return x_start, n_iter\n",
    "    g2 = g(x_end)\n",
    "    if g2 == 0.0:\n",
    "        return x_end, n_iter\n",
    "\n",
    "    if (g1*g2>0):\n",
    "        print(\"error: g(x) does not change sign in [%s, %s]\"%(x_start,x_end))\n",
    "        print(\"so, root does not lie b/w [%s, %s]\"%(x_start,x_end))\n",
    "        print(\"root finding failed\")\n",
    "        return None, None\n",
    "\n",
    "    while (x_end - x_start)/2.0 > tol:\n",
    "        m = (x_start + x_end)/2.0\n",
    "        gm = g(m)\n",
    "        if (g1*gm<0):\n",
    "            x_end = m\n",
    "        else:\n",
    "            x_start = m\n",
    "        \n",
    "        n_iter = n_iter + 1\n",
    "\n",
    "    return (x_start + x_end)/2.0, n_iter"
   ]
  },
  {
   "cell_type": "markdown",
   "id": "bf116457",
   "metadata": {},
   "source": [
    "<font size=\"5\">Newton-Raphson method</font>"
   ]
  },
  {
   "cell_type": "code",
   "execution_count": 3,
   "id": "1086ff75",
   "metadata": {},
   "outputs": [],
   "source": [
    "#### Calculating roots using newton-raphson method with stopping condition as tolerance\n",
    "def newton_raphson(g, dg, x_guess, tol):\n",
    "    n_iter = 0\n",
    "    while abs(g(x_guess))>tol:\n",
    "        x_guess = x_guess - g(x_guess)/dg(x_guess)\n",
    "        n_iter = n_iter + 1\n",
    "    \n",
    "    return x_guess, g(x_guess), n_iter"
   ]
  },
  {
   "cell_type": "markdown",
   "id": "36e87c64",
   "metadata": {},
   "source": [
    "<font size=\"5\">Question 1</font>\n",
    "\n",
    "$$I(\\lambda) = \\frac{2 \\pi h c^2 \\lambda^{-5}}{e^{hc / \\lambda k_B T} - 1}$$\n",
    "\n",
    "Part (1.1a)\n",
    "\n",
    "\n",
    "The emitted radiation will be strongest at the extremum of $I(\\lambda)$, $\\,\\,$  i.e., at $\\,\\,$ $\\frac{dI(\\lambda)}{d\\lambda}=0$.\n",
    "$$\\frac{dI(\\lambda)}{d\\lambda} = \\frac{ -\\frac{10 \\pi h c^2}{\\lambda^{6}} (e^{hc / \\lambda k_B T} - 1) + \\frac{2\\pi h c^2}{\\lambda^5} e^{hc / \\lambda k_B T} \\frac{hc}{{\\lambda}^2 k_B T}  }{(e^{hc / \\lambda k_B T} - 1)^2} = 0$$\n",
    "\n",
    "$$ \\implies  -5 (e^{hc / \\lambda k_B T} - 1) + \\frac{hc}{\\lambda k_B T} e^{hc / \\lambda k_B T}  = 0$$\n",
    "\n",
    "$$ \\implies -5(1 - e^{-hc / \\lambda k_B T}) + \\frac{hc}{\\lambda k_B T} = 0 $$\n",
    "\n",
    "$$ \\implies 5 e^{-hc / \\lambda k_B T} +  \\frac{hc}{\\lambda k_B T} - 5 = 0$$\n",
    "\n",
    "Part (1.1b)\n",
    "\n",
    "Substituting $\\,\\, x = hc / \\lambda k_B T \\,\\, $ in above equation implies  $\\,\\,$ $5 e^{-x} + x - 5 = 0$\n",
    "\n",
    "Now onwards, since $$x = hc / \\lambda k_B T $$\n",
    "$$\\implies \\lambda T = \\frac{hc}{k_B x}$$\n",
    "$$ \\implies \\lambda T = b $$\n",
    "$$ \\implies \\lambda = \\frac{b}{T} $$\n",
    "$$\\text{where} \\,\\,\\, b = \\frac{hc}{k_B x}$$"
   ]
  },
  {
   "cell_type": "code",
   "execution_count": 4,
   "id": "86081b36",
   "metadata": {},
   "outputs": [
    {
     "name": "stdout",
     "output_type": "stream",
     "text": [
      "Trivial zero : 0.000001\n",
      "No. of iterations : 20\n",
      "\n",
      "Non-trivial zero : 4.965114\n",
      "No. of iterations : 20\n",
      "Wien's displacement constant : 0.002901\n"
     ]
    },
    {
     "data": {
      "image/png": "[encoded data removed]",
      "text/plain": [
       "<Figure size 640x480 with 1 Axes>"
      ]
     },
     "metadata": {},
     "output_type": "display_data"
    }
   ],
   "source": [
    "#### Part(1.2)\n",
    "\n",
    "def I(x):\n",
    "    return 5*np.exp(-x) + x - 5\n",
    "\n",
    "x = np.linspace(-2,7,1000)\n",
    "plt.plot(x,I(x))\n",
    "plt.xlabel(r'$x$')\n",
    "plt.ylabel(r'$I(x)$')\n",
    "plt.axhline(y = 0.0, color='pink', linestyle = '-')\n",
    "\n",
    "I_tol = 1e-6\n",
    "\n",
    "### 1st root\n",
    "I_sol, I_n = bisect_method(I,-1.0,1.0,I_tol)\n",
    "\n",
    "print(f\"Trivial zero : {I_sol:0.6f}\")\n",
    "print(f\"No. of iterations : {I_n}\\n\")\n",
    "\n",
    "### 2nd root\n",
    "I_sol, I_n = bisect_method(I,4.0,6.0,I_tol)\n",
    "print(f\"Non-trivial zero : {I_sol:0.6f}\")\n",
    "print(f\"No. of iterations : {I_n}\")\n",
    "\n",
    "x_sol = I_sol\n",
    "#### Finding value of Wien's displacement constant, b\n",
    "h = 6.626*10**(-34)\n",
    "c = 3*1e8\n",
    "k = 1.38*1e-23\n",
    "b = h*c/(k*x_sol)\n",
    "\n",
    "print(f\"Wien's displacement constant : {b:0.6f}\")"
   ]
  },
  {
   "cell_type": "code",
   "execution_count": 5,
   "id": "3fa150e0",
   "metadata": {},
   "outputs": [
    {
     "name": "stdout",
     "output_type": "stream",
     "text": [
      "Sun's temp : 5779 K\n"
     ]
    }
   ],
   "source": [
    "#### Part (1.3)\n",
    "lmbd = 502*10**(-9) ## wavelength in meter\n",
    "\n",
    "def temp(wv_length):\n",
    "    return int(b/wv_length)\n",
    "\n",
    "sun_temp = temp(lmbd)\n",
    "print(f\"Sun's temp : {sun_temp:d} K\")"
   ]
  },
  {
   "cell_type": "markdown",
   "id": "28764926",
   "metadata": {},
   "source": [
    "<font size=\"5\">Question 2</font>\n",
    "\n",
    "\n",
    "$$ P(x) = 924 x^6 - 2772 x^5 + 3150 x^4 - 1680 x^3 + 420 x^2 - 42 x + 1 $$\n",
    "\n",
    "$$ \\implies \\frac{dP(x)}{dx} = 5444 x^5 - 13860 x^4 + 12600 x^3 - 5040 x^2 + 840 x - 42 $$\n"
   ]
  },
  {
   "cell_type": "code",
   "execution_count": 6,
   "id": "f71c5786",
   "metadata": {},
   "outputs": [
    {
     "data": {
      "text/plain": [
       "<matplotlib.lines.Line2D at 0x7f6d9546a720>"
      ]
     },
     "execution_count": 6,
     "metadata": {},
     "output_type": "execute_result"
    },
    {
     "data": {
      "image/png": "[encoded data removed]",
      "text/plain": [
       "<Figure size 640x480 with 1 Axes>"
      ]
     },
     "metadata": {},
     "output_type": "display_data"
    }
   ],
   "source": [
    "#### Part (2.a)\n",
    "def poly(x):\n",
    "    return 924.0*x**6 - 2772.0*x**5 + 3150.0*x**4 - 1680.0*x**3 + 420.0*x**2 - 42.0*x + 1.0\n",
    "\n",
    "x = np.linspace(0.0,1.0,1000)\n",
    "\n",
    "plt.plot(x,poly(x))\n",
    "plt.xlabel(r'$x$')\n",
    "plt.ylabel(r'$P(x)$')\n",
    "plt.axhline(y=0.0, color = 'pink', linestyle = '-')"
   ]
  },
  {
   "cell_type": "code",
   "execution_count": 7,
   "id": "bd447785",
   "metadata": {},
   "outputs": [
    {
     "name": "stdout",
     "output_type": "stream",
     "text": [
      "Approximate roots are : [0.  0.2 0.4 0.6 0.8 0.9]\n"
     ]
    }
   ],
   "source": [
    "#### By looking at the above figure approximate roots are:\n",
    "x_root = np.array([0.0, 0.2, 0.4, 0.6, 0.8, 0.9])\n",
    "print(f\"Approximate roots are : {x_root}\")"
   ]
  },
  {
   "cell_type": "code",
   "execution_count": 8,
   "id": "ab05e364",
   "metadata": {},
   "outputs": [
    {
     "name": "stdout",
     "output_type": "stream",
     "text": [
      "At 0-th root = 0.033765243,  P(x) = 0.000000000, and no. of iterations = 5\n",
      "At 1-th root = 0.169395307,  P(x) = 0.000000000, and no. of iterations = 4\n",
      "At 2-th root = 0.380690407,  P(x) = 0.000000000, and no. of iterations = 3\n",
      "At 3-th root = 0.619309593,  P(x) = 0.000000000, and no. of iterations = 3\n",
      "At 4-th root = 0.830604693,  P(x) = 0.000000000, and no. of iterations = 4\n",
      "At 5-th root = 0.966234757,  P(x) = -0.000000000, and no. of iterations = 11\n"
     ]
    }
   ],
   "source": [
    "#### Part (2.b)\n",
    "\n",
    "def dpoly(x):\n",
    "    return 924.0*6*x**5 - 2772.0*5*x**4 + 3150.0*4*x**3 - 1680.0*3*x**2 + 420.0*2*x - 42.0\n",
    "\n",
    "f_tol = 1e-10\n",
    "for i in range(len(x_root)):\n",
    "    xroot, px, niter = newton_raphson(poly, dpoly, x_root[i], f_tol)\n",
    "    print(f\"At {i:d}-th root = {xroot:.9f},  P(x) = {px:.9f}, and no. of iterations = {niter}\")"
   ]
  },
  {
   "cell_type": "markdown",
   "id": "21927d90",
   "metadata": {},
   "source": [
    "<font size=\"5\">Question 3</font>\n",
    "\n",
    "$$f(x) =x^2 - 4x + e^{-x} $$\n",
    "$$\\implies \\frac{df(x)}{dx} = 2x - e^{-x} - 4$$"
   ]
  },
  {
   "cell_type": "code",
   "execution_count": 9,
   "id": "2d7478d5",
   "metadata": {},
   "outputs": [
    {
     "data": {
      "text/plain": [
       "<matplotlib.lines.Line2D at 0x7f6d9535f590>"
      ]
     },
     "execution_count": 9,
     "metadata": {},
     "output_type": "execute_result"
    },
    {
     "data": {
      "image/png": "[encoded data removed]",
      "text/plain": [
       "<Figure size 640x480 with 1 Axes>"
      ]
     },
     "metadata": {},
     "output_type": "display_data"
    }
   ],
   "source": [
    "#### Part (3.a)\n",
    "\n",
    "def f(x):\n",
    "    return x**2 - 4*x + np.exp(-x)\n",
    "\n",
    "x = np.linspace(-5,5,1000)\n",
    "plt.plot(x,f(x))\n",
    "plt.ylim(-5,5)\n",
    "plt.axhline(y = 0.0, color = 'pink', linestyle = '-')"
   ]
  },
  {
   "cell_type": "code",
   "execution_count": 10,
   "id": "b6e63786",
   "metadata": {},
   "outputs": [
    {
     "name": "stdout",
     "output_type": "stream",
     "text": [
      "1st root = 0.213348 and iteration taken = 23\n",
      "2nd root = 3.995395 and iteration taken = 23\n"
     ]
    }
   ],
   "source": [
    "tol = 1e-7\n",
    "\n",
    "##### Finding roots using Bisection method\n",
    "\n",
    "### 1st root lies in (0.0,1.0)\n",
    "root1, iter1 = bisect_method(f, 0.0, 1.0, tol)\n",
    "print(f\"1st root = {root1:0.6f} and iteration taken = {iter1}\")\n",
    "\n",
    "\n",
    "### 2nd root lies in (2.5,4.0)\n",
    "root2, iter2 = bisect_method(f, 2.5, 4.0, tol)\n",
    "print(f\"2nd root = {root2:0.6f} and iteration taken = {iter2}\")"
   ]
  },
  {
   "cell_type": "code",
   "execution_count": 11,
   "id": "21a3f502",
   "metadata": {},
   "outputs": [
    {
     "name": "stdout",
     "output_type": "stream",
     "text": [
      "1st root = 0.213348, f(x) = 0.000000, and iteration taken = 3\n",
      "2nd root = 3.995395, f(x) = 0.000000, and iteration taken = 5\n"
     ]
    }
   ],
   "source": [
    "#### Part (3.b)\n",
    "\n",
    "####### Finding roots using Newton-Raphson\n",
    "def df(x):\n",
    "    return 2*x - np.exp(-x) - 4\n",
    "\n",
    "guess1 = 0.0\n",
    "root1 , f_root1, iter1 = newton_raphson(f, df, guess1, tol)\n",
    "print(f\"1st root = {root1:0.6f}, f(x) = {f_root1:0.6f}, and iteration taken = {iter1}\")\n",
    "\n",
    "guess2 = 3.0\n",
    "root2 , f_root2, iter2 = newton_raphson(f, df, guess2, tol)\n",
    "print(f\"2nd root = {root2:0.6f}, f(x) = {f_root2:0.6f}, and iteration taken = {iter2}\")"
   ]
  },
  {
   "cell_type": "markdown",
   "id": "50e35480",
   "metadata": {},
   "source": [
    "<font size=\"3\">As we can see Newton-Raphson method took less number of iteration than Bisection method to calculate roots so, Newton Raphson method is more efficient.</font>"
   ]
  },
  {
   "cell_type": "markdown",
   "id": "8c019afd",
   "metadata": {},
   "source": [
    "<font size=\"5\">Question 4</font>\n",
    "\n",
    "Refractive index"
   ]
  },
  {
   "cell_type": "code",
   "execution_count": 2,
   "id": "1ba34bac",
   "metadata": {},
   "outputs": [
    {
     "name": "stdin",
     "output_type": "stream",
     "text": [
      "Enter a wavelength between 3,511 and 23,254:  4000\n"
     ]
    },
    {
     "name": "stdout",
     "output_type": "stream",
     "text": [
      "Interpolated refractive index = 1.53096 at wavelength = 4000.0 Å\n"
     ]
    }
   ],
   "source": [
    "data = np.loadtxt(\"refractive_index.txt\",skiprows=1)\n",
    "\n",
    "def linear_interpolation(lmbd, x_array, y_array):\n",
    "    refractive_index = y_array[0] + (lmbd - x_array[0])*(y_array[0] - y_array[1])/(x_array[0]-x_array[1])\n",
    "    return refractive_index\n",
    "    #### y = y[0] + (x - x[0])*(y[0] - y[1])/(x[0] - x[1])\n",
    "\n",
    "wv_len = float(input(\"Enter a wavelength between 3,511 and 23,254: \"))\n",
    "\n",
    "for i in range(len(data[:,0])):\n",
    "    if (wv_len == data[i,0]):\n",
    "        ref_index = data[i,1]\n",
    "        print(f\"From the data, refractive index = {ref_index} at wavelength = {wv_len} \\u00C5\")\n",
    "        break\n",
    "    elif ( (data[i,0] < wv_len < data[i+1,0]) ):\n",
    "        x_arr = np.array([data[i,0], data[i+1,0]])\n",
    "        y_arr = np.array([data[i,1],data[i+1,1]])\n",
    "        ref_index = linear_interpolation(wv_len, x_arr, y_arr)\n",
    "        print(f\"Interpolated refractive index = {ref_index:0.5f} at wavelength = {wv_len} \\u00C5\")\n",
    "        break\n"
   ]
  }
 ],
 "metadata": {
  "kernelspec": {
   "display_name": "Python 3",
   "language": "python",
   "name": "python3"
  },
  "language_info": {
   "codemirror_mode": {
    "name": "ipython",
    "version": 3
   },
   "file_extension": ".py",
   "mimetype": "text/x-python",
   "name": "python",
   "nbconvert_exporter": "python",
   "pygments_lexer": "ipython3",
   "version": "3.7.3"
  }
 },
 "nbformat": 4,
 "nbformat_minor": 5
}
