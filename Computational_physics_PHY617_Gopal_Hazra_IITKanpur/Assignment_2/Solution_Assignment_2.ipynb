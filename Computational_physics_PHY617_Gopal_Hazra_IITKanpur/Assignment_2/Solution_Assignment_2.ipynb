{
 "cells": [
  {
   "cell_type": "code",
   "execution_count": 2,
   "id": "bf30aa70",
   "metadata": {},
   "outputs": [],
   "source": [
    "#Solution of Assignment_2\n",
    "#Instructor: Gopal Hazra\n",
    "#Computational Physics-PHY617, Dept of Physics, IIT Kanpur\n",
    "\n",
    "\n",
    "#Import packages\n",
    "import numpy as np\n",
    "import matplotlib.pyplot as plt"
   ]
  },
  {
   "cell_type": "code",
   "execution_count": 9,
   "id": "9d49c6f7",
   "metadata": {},
   "outputs": [
    {
     "name": "stdin",
     "output_type": "stream",
     "text": [
      "Give the n value: 100\n"
     ]
    },
    {
     "name": "stdout",
     "output_type": "stream",
     "text": [
      "1.62\n"
     ]
    }
   ],
   "source": [
    "#Question 1\n",
    "#List of the first two number in Fibonacci sequence\n",
    "\n",
    "F=[0,1]\n",
    "\n",
    "#Give the n value\n",
    "n=int(input(\"Give the n value:\"))\n",
    "\n",
    "while len(F)<n:\n",
    "    new_number=F[-1]+F[-2]\n",
    "    F.append(new_number)\n",
    "#get the value of Fn/Fn-1:\n",
    "print(np.round(F[-1]/F[-2],2))"
   ]
  },
  {
   "cell_type": "code",
   "execution_count": 5,
   "id": "5cc0b7e1",
   "metadata": {},
   "outputs": [
    {
     "name": "stdin",
     "output_type": "stream",
     "text": [
      "Give the value of x1: 1\n",
      "Give the value of y1: 5\n",
      "Give the value of x2: 2\n",
      "Give the value of y2: 10\n",
      "Give the value of x3: 3\n",
      "Give the value of y3: 15\n"
     ]
    },
    {
     "name": "stdout",
     "output_type": "stream",
     "text": [
      "The points are co-linear\n"
     ]
    }
   ],
   "source": [
    "#Question 2\n",
    "x1=float(input(\"Give the value of x1:\"))\n",
    "y1=float(input(\"Give the value of y1:\"))\n",
    "x2=float(input(\"Give the value of x2:\"))\n",
    "y2=float(input(\"Give the value of y2:\"))\n",
    "x3=float(input(\"Give the value of x3:\"))\n",
    "y3=float(input(\"Give the value of y3:\"))\n",
    "Area=0.5*(x1*(y2-y3)+x2*(y3-y1)+x3*(y1-y2))\n",
    "if Area==0:\n",
    "    print(\"The points are co-linear\")\n",
    "else:\n",
    "    print(\"The points are not co-linear\")"
   ]
  },
  {
   "cell_type": "code",
   "execution_count": 12,
   "id": "93b3ea34",
   "metadata": {},
   "outputs": [
    {
     "name": "stdin",
     "output_type": "stream",
     "text": [
      "Give the value of a : 1\n",
      "Give the value of x0: 2\n"
     ]
    },
    {
     "name": "stdout",
     "output_type": "stream",
     "text": [
      "-6.0\n"
     ]
    }
   ],
   "source": [
    "#Question 3\n",
    "#Give the initial values \n",
    "N = 2\n",
    "a = float(input(\"Give the value of a :\"))\n",
    "x0 = float(input(\"Give the value of x0:\"))\n",
    "def f(x):\n",
    "    return a*x*(1-x)\n",
    "for i in range(N):\n",
    "    x0=f(x0)\n",
    "print(x0)"
   ]
  },
  {
   "cell_type": "code",
   "execution_count": 18,
   "id": "6e8ff9f9",
   "metadata": {},
   "outputs": [
    {
     "name": "stdout",
     "output_type": "stream",
     "text": [
      "The variance =  833.25\n"
     ]
    }
   ],
   "source": [
    "#Question 4\n",
    "arr=np.linspace(1,100,100)\n",
    "x=0\n",
    "x2=0\n",
    "for i in range(len(arr)):\n",
    "    x+=arr[i]\n",
    "    x2+=arr[i]**2\n",
    "x=x/len(arr)\n",
    "x2=x2/len(arr)\n",
    "print(\"The variance = \",round(x2-x**2,2))\n",
    "\n",
    "    "
   ]
  },
  {
   "cell_type": "code",
   "execution_count": 8,
   "id": "116624de",
   "metadata": {},
   "outputs": [
    {
     "name": "stdin",
     "output_type": "stream",
     "text": [
      "Give the value of T0 4\n"
     ]
    },
    {
     "name": "stdout",
     "output_type": "stream",
     "text": [
      "Time will be taken: 396.5763425294507\n"
     ]
    }
   ],
   "source": [
    "#Question 5:\n",
    "#Defining the constant\n",
    "#Mass of the egg(g)\n",
    "M=67\n",
    "#Density of the egg (g/cc)\n",
    "rho=1.038\n",
    "c=3.7 \n",
    "K=5.4e-3 \n",
    "\n",
    "Ty=70\n",
    "Tw=100\n",
    "#Give the value of T0\n",
    "T0=float(input(\"Give the value of T0\"))\n",
    "#calculate the time\n",
    "\n",
    "t=(M**(2/3)*c*rho**(1/3))/(K*np.pi**2*(4*np.pi/3)**(2/3))*np.log(0.76*(T0-Tw)/(Ty-Tw))\n",
    "\n",
    "print(\"Time will be taken:\",t)"
   ]
  },
  {
   "cell_type": "code",
   "execution_count": null,
   "id": "303d6131",
   "metadata": {},
   "outputs": [],
   "source": []
  }
 ],
 "metadata": {
  "kernelspec": {
   "display_name": "Python 3",
   "language": "python",
   "name": "python3"
  },
  "language_info": {
   "codemirror_mode": {
    "name": "ipython",
    "version": 3
   },
   "file_extension": ".py",
   "mimetype": "text/x-python",
   "name": "python",
   "nbconvert_exporter": "python",
   "pygments_lexer": "ipython3",
   "version": "3.7.3"
  }
 },
 "nbformat": 4,
 "nbformat_minor": 5
}
