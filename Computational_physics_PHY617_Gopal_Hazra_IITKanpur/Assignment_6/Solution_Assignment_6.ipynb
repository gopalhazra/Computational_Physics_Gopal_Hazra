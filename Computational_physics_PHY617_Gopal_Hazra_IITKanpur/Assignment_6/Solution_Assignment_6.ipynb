{
 "cells": [
  {
   "cell_type": "markdown",
   "id": "c0eb2e54",
   "metadata": {},
   "source": [
    "<h1 align=\"center\">Solution of Assignment_6 </h1>\n",
    "<h1 align=\"center\">Instructor: Gopal Hazra </h1>\n",
    "<h1 align=\"center\"> Computational Physics-PHY617, Dept of Physics, IIT Kanpur <h1>"
   ]
  },
  {
   "cell_type": "markdown",
   "id": "6df09588",
   "metadata": {},
   "source": [
    "<font size=\"5\">Question 1</font>\n",
    "\n",
    "| **x** | 1.00 | 2.00 | 3.00 | 4.00 | 5.00 |\n",
    "|-------|------|------|------|------|------|\n",
    "| **y** | 13.00 | 15.00 | 12.00 | 9.00 | 13.00 |"
   ]
  },
  {
   "cell_type": "code",
   "execution_count": 84,
   "id": "6ee10e46",
   "metadata": {},
   "outputs": [],
   "source": [
    "import numpy as np\n",
    "import matplotlib.pyplot as plt\n",
    "import matplotlib\n",
    "matplotlib.rcParams['text.usetex']=True #### For latex type labelling in plots"
   ]
  },
  {
   "cell_type": "code",
   "execution_count": 85,
   "id": "a635f7a5",
   "metadata": {},
   "outputs": [],
   "source": [
    "x_data = np.array([1.00,   2.00, 3.00,  4.00, 5.00])\n",
    "y_data = np.array([13.00, 15.00, 12.00, 9.00, 13.00])"
   ]
  },
  {
   "cell_type": "markdown",
   "id": "11e2af80",
   "metadata": {},
   "source": [
    "<font size=\"3\">Part (1a)</font>\n",
    "\n",
    "$$ x_0 = a < x_1 < x_2 < x_3 < ... < x_n = b $$\n",
    "\n",
    "Using the continuity of first order derivative $(y')$ at the boundary of each interval $[x_j,x_{j+1}]$ implies :\n",
    "\n",
    "$$\n",
    "\\begin{equation}\n",
    " h_j y_{j+1}^\" + 2(h_{j-1} + h_{j})y_{j}^\" + h_{j-1} y_{j-1}^\" = \\frac{6}{h_j}(y_{j+1} - y_{j}) - \\frac{6}{h_{j-1}}(y_j - y_{j-1})\n",
    "\\end{equation}\\tag{1}\n",
    "$$\n",
    "\n",
    "$$ \\text{where} \\;\\; j = 1,2,3,...,n-1, \\;\\; \\text{and} \\;\\; h_j = x_{j+1} - x_j $$\n",
    "\n",
    "and using natural boundary conditions at $x_0 = a$ and $x_n = b$ imply :\n",
    "\n",
    "$$\n",
    "\\begin{equation}\n",
    "y_{0}^\" = 0, \\;\\; y_{n}^\" = 0\n",
    "\\end{equation}\\tag{2}\n",
    "$$"
   ]
  },
  {
   "cell_type": "markdown",
   "id": "9fee644a",
   "metadata": {},
   "source": [
    "If all intervals $[x_j,x_{j+1}]$ are equal i.e., $h_j = x_{j+1} - x_j = h$, then above equations become :\n",
    "\n",
    "$$\n",
    "\\begin{equation}\n",
    "y_{j+1}^\" + 4 y_j^\" + y_{j-1}^\" = \\frac{6}{h^2}(y_{j+1} - 2y_j + y_{j-1}), \\;\\; j = 1,2,3,...,n-1\n",
    "\\end{equation}\\tag{3}\n",
    "$$\n",
    "\n",
    "$$\n",
    "\\begin{equation}\n",
    "\\text{and} \\;\\; y_0^\" = 0, \\;\\; y_n^\" = 0 \\text{}\n",
    "\\end{equation}\\tag{4}\n",
    "$$"
   ]
  },
  {
   "cell_type": "markdown",
   "id": "770be377",
   "metadata": {},
   "source": [
    "For the given data which has equal intervals, $h=1$ :\n",
    "\n",
    "$$\n",
    "\\begin{align}\n",
    "y_{2}^\" + 4 y_{1}^\" + y_{0}^\" &= 6(y_2 - 2 y_1 + y_0) \\\\\n",
    "y_{3}^\" + 4 y_{2}^\" + y_{1}^\" &= 6(y_3 - 2 y_2 + y_1) \\\\\n",
    "y_{4}^\" + 4 y_{3}^\" + y_{2}^\" &= 6(y_4 - 2 y_3 + y_2) \\\\\n",
    "y_0^\" &= 0 \\\\\n",
    "y_4^\"  &= 0\n",
    "\\end{align}\\tag{5}\n",
    "$$\n",
    "\n",
    "Which results in :\n",
    "\n",
    "$$\n",
    "\\begin{align}\n",
    "4 y_{1}^\" + y_{2}^\" + 0.y_{3}^\" &= - 30 \\\\\n",
    "y_{1}^\"   + 4 y_{2}^\" + y_{3}^\" &= 0 \\\\\n",
    "0.y_{1}^\" + y_{2}^\" + 4 y_{3}^\"&= 42 \\\\\n",
    "y_0^\" &= 0 \\\\\n",
    "y_4^\"  &= 0\n",
    "\\end{align}\\tag{6}\n",
    "$$"
   ]
  },
  {
   "cell_type": "markdown",
   "id": "355bd615",
   "metadata": {},
   "source": [
    "After solving equation(6), we get:\n",
    "\n",
    "$$\n",
    "\\begin{align}\n",
    "y_0^\" &= 0 \\\\\n",
    "y_1^\" &= \\frac{-51}{7} \\\\\n",
    "y_2^\" &= \\frac{-6}{7} \\\\\n",
    "y_3^\" &= \\frac{75}{7} \\\\\n",
    "y_4^\" &= 0\n",
    "\\end{align}\\tag{7}\n",
    "$$"
   ]
  },
  {
   "cell_type": "code",
   "execution_count": 86,
   "id": "821b9ca2",
   "metadata": {},
   "outputs": [
    {
     "name": "stdout",
     "output_type": "stream",
     "text": [
      "[ 0.         -7.28571429 -0.85714286 10.71428571  0.        ]\n"
     ]
    }
   ],
   "source": [
    "#### Second derivative at all points are\n",
    "ydd = np.array([0.0, -51.0/7, -6.0/7, 75.0/7, 0])\n",
    "print(f\"{ydd}\")"
   ]
  },
  {
   "cell_type": "markdown",
   "id": "92a71c87",
   "metadata": {},
   "source": [
    "<font size=\"3\">Part 1b</font>\n",
    "\n",
    "Natural cubic interpolant in an interval $x \\in [x_{j},x_{j+1}]$ is given by :\n",
    "\n",
    "$$\n",
    "\\begin{equation}\n",
    "S_j(x) = A y_j + B y_{j+1} + C y_j^\" + D y_{j+1}^\"\n",
    "\\end{equation}\\tag{8}\n",
    "$$\n",
    "\n",
    "where\n",
    "\n",
    "$$\n",
    "\\begin{align}\n",
    "A &= \\frac{x_{j+1} - x}{x_{j+1} - x_j} \\\\\n",
    "B &= \\frac{x - x_j}{x_{j+1} - x_j} \\\\\n",
    "C &= \\frac{1}{6} (A^3 - A) (x_{j+1} - x_j)^2 \\\\\n",
    "D &= \\frac{1}{6} (B^3 - B) (x_{j+1} - x_j)^2\n",
    "\\end{align}\n",
    "$$"
   ]
  },
  {
   "cell_type": "code",
   "execution_count": 87,
   "id": "c67ae5ee",
   "metadata": {},
   "outputs": [
    {
     "name": "stdout",
     "output_type": "stream",
     "text": [
      "Interpolated value = 10.254857 at x = 3.4\n"
     ]
    }
   ],
   "source": [
    "x_interp = 3.4\n",
    "\n",
    "def cubic_spline(xp,xdata,ydata,dy):\n",
    "    n = len(xdata)\n",
    "    for i in range(n):\n",
    "        if xdata[i] < xp < xdata[i+1]:\n",
    "            A = (xdata[i+1] - xp)/(xdata[i+1] - xdata[i])\n",
    "            B = (xp - xdata[i])/(xdata[i+1]- xdata[i])\n",
    "            C = (1.0/6.0)*(A**3-A)*(xdata[i+1]- xdata[i])**2\n",
    "            D = (1.0/6.0)*(B**3 - B)*(xdata[i+1]- xdata[i])**2\n",
    "            y1 = A*ydata[i] + B*ydata[i+1] + C*dy[i] + D*dy[i+1]\n",
    "            return y1\n",
    "\n",
    "print(f'Interpolated value = {cubic_spline(x_interp,x_data,y_data,ydd):0.6f} at x = {x_interp}')"
   ]
  },
  {
   "cell_type": "markdown",
   "id": "5432f86f",
   "metadata": {},
   "source": [
    "<font size=\"5\">Question 2</font>"
   ]
  },
  {
   "cell_type": "markdown",
   "id": "231c682e",
   "metadata": {},
   "source": [
    "<font size=\"3\">\n",
    "$$\n",
    "\\begin{equation}\n",
    "I = \\int_{0}^{\\infty} \\frac{x^3}{e^x -1} dx = \\frac{\\pi^4}{15}\n",
    "\\end{equation}\\tag{9}\n",
    "$$\n",
    "</font>"
   ]
  },
  {
   "cell_type": "code",
   "execution_count": 92,
   "id": "5d2e5e4a",
   "metadata": {},
   "outputs": [
    {
     "data": {
      "image/png": "[encoded data removed]",
      "text/plain": [
       "<Figure size 640x480 with 1 Axes>"
      ]
     },
     "metadata": {},
     "output_type": "display_data"
    }
   ],
   "source": [
    "def fun1(x):\n",
    "    return x**3/(np.exp(x)-1)\n",
    "\n",
    "x_small = 0.00001\n",
    "x = np.linspace(x_small,5,100000)\n",
    "\n",
    "plt.plot(x,fun1(x))\n",
    "plt.xlabel(r\"$x$\",fontsize=20)\n",
    "plt.ylabel(r\"$\\frac{x^3}{(e^x-1)}$\",fontsize=20)\n",
    "plt.grid()\n",
    "plt.axvline(x=2.8,color='pink')\n",
    "plt.axhline(y=1.43,color='pink')\n",
    "plt.show()"
   ]
  },
  {
   "cell_type": "markdown",
   "id": "f9c8a281",
   "metadata": {},
   "source": [
    "<font size=\"3\">\n",
    "Doing substitution $z = \\frac{x}{c+x}$ in the integration of $I$ implies :\n",
    "\n",
    "$$ x = \\frac{cz}{1-z}$$\n",
    "\n",
    "$$ \\implies dx = \\frac{cz}{1-z} dz$$\n",
    "\n",
    "$$ \\implies I = \\int_{0}^{\\infty} \\frac{x^3}{e^x -1} dx = \\int_{0}^{1} \\frac{c^4 z^3}{(1-z)^5(e^{\\frac{cz}{1-z}} -1)} dz $$\n",
    "    \n",
    "$$ \\text{where} \\;\\; c \\approx 1.43 \\;\\; \\text{is the maximum value of integrand in equation (9) in the region} \\;\\; 0<x<\\infty \\;\\;$$"
   ]
  },
  {
   "cell_type": "code",
   "execution_count": 100,
   "id": "88576fa6",
   "metadata": {},
   "outputs": [
    {
     "name": "stdout",
     "output_type": "stream",
     "text": [
      "Integral value using trapezoidal rule = 6.49328\n",
      "Integral value from analytical calculation = 6.49394\n",
      "error = 6.58682e-04, and %error = 4.50801e-05\n"
     ]
    },
    {
     "name": "stderr",
     "output_type": "stream",
     "text": [
      "/tmp/ipykernel_25539/3389491032.py:4: RuntimeWarning: overflow encountered in exp\n",
      "  return (c**4*x**3)/( (1-x)**5*(np.exp(c*x/(1-x)) - 1) )\n"
     ]
    }
   ],
   "source": [
    "##### Modified integrand fun2(x) after substituting x = cz/(1-z) in fun1(x)\n",
    "c = 1.43 #### Integrand's maximum value is around 1.43\n",
    "def fun2(x):\n",
    "    return (c**4*x**3)/( (1-x)**5*(np.exp(c*x/(1-x)) - 1) )\n",
    "\n",
    "##### Integration by trapezoidal rule\n",
    "def trapezoid(f,a,b,N):\n",
    "    s = 0.5*(f(a) + f(b))\n",
    "    h =  (b-a)/N\n",
    "    for i in range(1,N):\n",
    "        s = s + f(a+i*h)\n",
    "        \n",
    "    return s*h\n",
    "\n",
    "x_start = 1e-4 #### Lower limit taken is slightly greater than 0 since 1/z blows at z=0\n",
    "x_end = 1-1e-4 #### Upper limit taken is slightly less than 1 since 1/(1-z) blows at z=1\n",
    "N = 20\n",
    "integral = trapezoid(fun2,x_start,x_end,N)\n",
    "print(f\"Integral value using trapezoidal rule = {integral:0.5f}\")\n",
    "print(f\"Integral value from analytical calculation = {np.pi**4/15:0.5f}\")\n",
    "error = abs(integral - np.pi**4/15)\n",
    "print(f\"error = {error:0.5e}, and %error = {(error*100/np.pi**4/15):0.5e}\")"
   ]
  },
  {
   "cell_type": "markdown",
   "id": "c93789a0",
   "metadata": {},
   "source": [
    "<font size=\"5\">Question 3</font>\n",
    "\n",
    "<font size=\"3\">\n",
    "$$\n",
    "\\begin{equation}\n",
    "E(x) = \\int_{0}^{x} e^{-t^2} dt\n",
    "\\end{equation}\n",
    "$$\n",
    "</font>"
   ]
  },
  {
   "cell_type": "code",
   "execution_count": 97,
   "id": "875f66db",
   "metadata": {},
   "outputs": [
    {
     "name": "stdout",
     "output_type": "stream",
     "text": [
      "30\n",
      "[0.  0.1 0.2 0.3 0.4 0.5 0.6 0.7 0.8 0.9 1.  1.1 1.2 1.3 1.4 1.5 1.6 1.7\n",
      " 1.8 1.9 2.  2.1 2.2 2.3 2.4 2.5 2.6 2.7 2.8 2.9 3. ] \n",
      "\n",
      "x = 0.00, E(x) = 0.000000\n",
      "x = 0.10, E(x) = 0.099668\n",
      "x = 0.20, E(x) = 0.197365\n",
      "x = 0.30, E(x) = 0.291237\n",
      "x = 0.40, E(x) = 0.379652\n",
      "x = 0.50, E(x) = 0.461279\n",
      "x = 0.60, E(x) = 0.535151\n",
      "x = 0.70, E(x) = 0.600682\n",
      "x = 0.80, E(x) = 0.657665\n",
      "x = 0.90, E(x) = 0.706236\n",
      "x = 1.00, E(x) = 0.746818\n",
      "x = 1.10, E(x) = 0.780055\n",
      "x = 1.20, E(x) = 0.806738\n",
      "x = 1.30, E(x) = 0.827736\n",
      "x = 1.40, E(x) = 0.843934\n",
      "x = 1.50, E(x) = 0.856182\n",
      "x = 1.60, E(x) = 0.865261\n",
      "x = 1.70, E(x) = 0.871857\n",
      "x = 1.80, E(x) = 0.876555\n",
      "x = 1.90, E(x) = 0.879835\n",
      "x = 2.00, E(x) = 0.882079\n",
      "x = 2.10, E(x) = 0.883585\n",
      "x = 2.20, E(x) = 0.884575\n",
      "x = 2.30, E(x) = 0.885213\n",
      "x = 2.40, E(x) = 0.885616\n",
      "x = 2.50, E(x) = 0.885866\n",
      "x = 2.60, E(x) = 0.886017\n",
      "x = 2.70, E(x) = 0.886108\n",
      "x = 2.80, E(x) = 0.886160\n",
      "x = 2.90, E(x) = 0.886190\n",
      "x = 3.00, E(x) = 0.886207\n"
     ]
    },
    {
     "data": {
      "image/png": "[encoded data removed]",
      "text/plain": [
       "<Figure size 640x480 with 1 Axes>"
      ]
     },
     "metadata": {},
     "output_type": "display_data"
    }
   ],
   "source": [
    "##### Part (3a)\n",
    "\n",
    "def fun3(x):\n",
    "    return np.exp(-x**2)\n",
    "\n",
    "h = 0.1\n",
    "x_lower = 0\n",
    "x_upper = 3\n",
    "n_iter = int(np.ceil((x_upper - x_lower)/h)) # Numnber of division of x values b/w 0 to 3 with step size = 0.1\n",
    "print(n_iter)\n",
    "x = np.linspace(x_lower,x_upper,n_iter+1)\n",
    "print(x,\"\\n\")\n",
    "\n",
    "#### Here I'm using trapezoidal method to evaluate the integral\n",
    "N = 100 #### No. of slices for each interval\n",
    "y_out = []\n",
    "for i in range(n_iter+1):\n",
    "    y_out.append(trapezoid(fun3,x_lower,x[i],N))\n",
    "    print(f\"x = {x[i]:0.2f}, E(x) = {y_out[i]:0.6f}\")\n",
    "\n",
    "plt.plot(x,y_out,\"x\")\n",
    "plt.xlabel(r\"$x$\",fontsize=20)\n",
    "plt.ylabel(r\"$E(x)$\",fontsize=20)\n",
    "plt.show()"
   ]
  },
  {
   "cell_type": "code",
   "execution_count": 96,
   "id": "ce61c1c4",
   "metadata": {},
   "outputs": [
    {
     "data": {
      "image/png": "[encoded data removed]",
      "text/plain": [
       "<Figure size 640x480 with 1 Axes>"
      ]
     },
     "metadata": {},
     "output_type": "display_data"
    }
   ],
   "source": [
    "#### Part (3b)\n",
    "x_arb_upper = 10 #### Arbitrary upper limit for E(x)\n",
    "\n",
    "x_in = np.linspace(x_lower,x_arb_upper,100)\n",
    "\n",
    "E_out = []\n",
    "for x in x_in:\n",
    "    E_out.append(trapezoid(fun3,x_lower,x,100))\n",
    "    \n",
    "plt.plot(x_in,E_out,\"x\",color='red')\n",
    "plt.xlabel(r\"$x$\",fontsize=20)\n",
    "plt.ylabel(r\"$E(x)$\",fontsize=20)\n",
    "plt.grid()\n",
    "plt.show()"
   ]
  },
  {
   "cell_type": "code",
   "execution_count": null,
   "id": "db842e6a",
   "metadata": {},
   "outputs": [],
   "source": []
  }
 ],
 "metadata": {
  "kernelspec": {
   "display_name": "Python 3",
   "language": "python",
   "name": "python3"
  },
  "language_info": {
   "codemirror_mode": {
    "name": "ipython",
    "version": 3
   },
   "file_extension": ".py",
   "mimetype": "text/x-python",
   "name": "python",
   "nbconvert_exporter": "python",
   "pygments_lexer": "ipython3",
   "version": "3.7.3"
  }
 },
 "nbformat": 4,
 "nbformat_minor": 5
}
